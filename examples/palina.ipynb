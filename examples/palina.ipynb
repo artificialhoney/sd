{
  "cells": [
    {
      "cell_type": "code",
      "execution_count": null,
      "metadata": {
        "id": "V9TXPhdnj6Lt"
      },
      "outputs": [],
      "source": [
        "!git clone https://github.com/artificialhoney/giger.git && cd giger && pip install -e ."
      ]
    },
    {
      "cell_type": "code",
      "execution_count": null,
      "metadata": {
        "id": "OZZ6tQX7qKWs"
      },
      "outputs": [],
      "source": [
        "!git clone https://github.com/artificialhoney/sd.git && pip uninstall basicsr -y && pip install git+https://github.com/ai-forever/Real-ESRGAN.git ansible git+https://github.com/XPixelGroup/BasicSR@master"
      ]
    },
    {
      "cell_type": "code",
      "execution_count": null,
      "metadata": {
        "id": "b3T16Jgd_oxV"
      },
      "outputs": [],
      "source": [
        "from google.colab import drive\n",
        "drive.mount('/content/drive', force_remount=True)"
      ]
    },
    {
      "cell_type": "code",
      "execution_count": null,
      "metadata": {
        "collapsed": true,
        "id": "w9I0Tfipgx97"
      },
      "outputs": [],
      "source": [
        "!cd sd && ansible-playbook playbook.yml -e config=\"examples/palina.yml\" -e project=\"mermaid\" -e output=\"/content/drive/MyDrive/SD\" --tags txt2img"
      ]
    },
    {
      "cell_type": "code",
      "execution_count": null,
      "metadata": {
        "collapsed": true,
        "id": "ZI7sSfcVtjHD"
      },
      "outputs": [],
      "source": [
        "!cd sd && ansible-playbook playbook.yml -e config=\"examples/palina.yml\" -e project=\"mermaid\" -e output=\"/content/drive/MyDrive/SD\" --tags swap"
      ]
    },
    {
      "cell_type": "code",
      "execution_count": null,
      "metadata": {
        "id": "ypeZSfc-lfrG"
      },
      "outputs": [],
      "source": [
        "!cd sd && ansible-playbook playbook.yml -e config=\"examples/palina.yml\" -e project=\"mermaid\" -e output=\"/content/drive/MyDrive/SD\" --tags upscale"
      ]
    }
  ],
  "metadata": {
    "accelerator": "GPU",
    "colab": {
      "gpuType": "L4",
      "machine_shape": "hm",
      "private_outputs": true,
      "provenance": []
    },
    "kernelspec": {
      "display_name": "Python 3",
      "name": "python3"
    },
    "language_info": {
      "name": "python"
    }
  },
  "nbformat": 4,
  "nbformat_minor": 0
}
